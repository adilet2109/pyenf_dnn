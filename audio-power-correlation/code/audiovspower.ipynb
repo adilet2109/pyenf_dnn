{
 "cells": [
  {
   "cell_type": "code",
   "execution_count": 30,
   "id": "45ad0dd6-77c9-4f4a-aaf3-bc5bacc95dcb",
   "metadata": {},
   "outputs": [],
   "source": [
    "from os import listdir\n",
    "from os.path import isfile, join\n",
    "import numpy as np\n",
    "import cv2\n",
    "import pickle\n",
    "import pyenf\n",
    "import scipy.io.wavfile\n",
    "import math\n",
    "from scipy.fftpack import fftshift\n",
    "import matplotlib.pyplot as plt\n",
    "import librosa\n",
    "from skimage.util import img_as_float\n",
    "from skimage.segmentation import slic\n",
    "from scipy.stats.stats import pearsonr"
   ]
  },
  {
   "cell_type": "code",
   "execution_count": 31,
   "id": "262a2f05-a463-4599-850f-8d1b424feddc",
   "metadata": {},
   "outputs": [],
   "source": [
    "def correlation_vector(ENF_signal1, ENF_signal2, window_size, shift_size):\n",
    "    correlation_ENF = []\n",
    "    length_of_signal = min(len(ENF_signal1), len(ENF_signal2))\n",
    "    total_windows = math.ceil(( length_of_signal - window_size + 1) / shift_size)\n",
    "    rho = np.zeros((1,total_windows))\n",
    "    for i in range(0,total_windows):\n",
    "        enf_sig1 = ENF_signal1[i * shift_size: i * shift_size + window_size]\n",
    "        enf_sig2 = ENF_signal2[i * shift_size: i * shift_size + window_size]\n",
    "        enf_sig1 = np.reshape(enf_sig1, (len(enf_sig1),))\n",
    "        enf_sig2 = np.reshape(enf_sig2,(len(enf_sig2), ))\n",
    "        r,p = pearsonr(enf_sig1, enf_sig2)\n",
    "        rho[0][i] = r\n",
    "    return rho,total_windows\n"
   ]
  },
  {
   "cell_type": "code",
   "execution_count": 32,
   "id": "fc3c2aed-def7-4db3-af34-138d07fb1b54",
   "metadata": {},
   "outputs": [],
   "source": [
    "folder = \"../input/\"\n",
    "#onlyfiles = [f for f in listdir(folder) if isfile(join(folder, f))]\n",
    "power_rec_name = \"newamp_15min_pwr.wav\" #\"power_parallel.wav\" \n",
    "audio_rec_name = \"newamp_15min_aud.wav\" # \"audio_parallel.wav\" #\n",
    "power_filepath = folder + power_rec_name\n",
    "audio_filepath = folder + audio_rec_name"
   ]
  },
  {
   "cell_type": "code",
   "execution_count": 48,
   "id": "5a7f19f1-97a1-4b8b-8aff-7234fce0b9eb",
   "metadata": {},
   "outputs": [],
   "source": [
    "#parameters for the STFT algorithm\n",
    "fs = 1000  # downsampling frequency\n",
    "nfft = 8192\n",
    "frame_size = 2  # change it to 6 for videos with large length recording\n",
    "overlap = 0\n",
    "\n",
    "power_signal_filename = power_filepath\n",
    "audio_signal_filename = audio_filepath\n",
    "power_signal0, fs = librosa.load(power_signal_filename, sr=fs)  # loading the power ENF data\n",
    "audio_signal0, fs = librosa.load(audio_signal_filename, sr=fs)  # loading the power ENF data\n",
    "\n",
    "cmpr_len = min(len(power_signal0),len(audio_signal0))\n",
    "\n",
    "#initialize the class object for the ENF.\n",
    "\n",
    "# 60 for 15 mins\n",
    "power_signal_object = pyenf.pyENF(signal0=power_signal0[0:cmpr_len], fs=fs, nominal=60, harmonic_multiples=1, duration=.1,\n",
    "                                  strip_index=0, frame_size_secs=frame_size, nfft=nfft, overlap_amount_secs=overlap)\n",
    "power_spectro_strip, power_frequency_support = power_signal_object.compute_spectrogam_strips()\n",
    "power_weights = power_signal_object.compute_combining_weights_from_harmonics()\n",
    "power_OurStripCell, power_initial_frequency = power_signal_object.compute_combined_spectrum(power_spectro_strip,\n",
    "                                                                                            power_weights,\n",
    "                                                                                            power_frequency_support)\n",
    "power_ENF = power_signal_object.compute_ENF_from_combined_strip(power_OurStripCell, power_initial_frequency)"
   ]
  },
  {
   "cell_type": "code",
   "execution_count": 54,
   "id": "afa9dd33-2645-4fab-b3ea-3dca62ded61a",
   "metadata": {},
   "outputs": [
    {
     "name": "stderr",
     "output_type": "stream",
     "text": [
      "/home/adilet/miniconda3/envs/enfenv/lib/python3.6/site-packages/numpy/core/_asarray.py:83: VisibleDeprecationWarning: Creating an ndarray from ragged nested sequences (which is a list-or-tuple of lists-or-tuples-or ndarrays with different lengths or shapes) is deprecated. If you meant to do this, you must specify 'dtype=object' when creating the ndarray\n",
      "  return array(a, dtype, copy=False, order=order)\n"
     ]
    }
   ],
   "source": [
    "#fs = 1000  # downsampling frequency\n",
    "#nfft = 8192\n",
    "#frame_size = 2  # change it to 6 for videos with large length recording\n",
    "#overlap = 0\n",
    "\n",
    "#audio_signal_filename = audio_filepath\n",
    "#audio_signal0, fs = librosa.load(audio_signal_filename, sr=fs)  # loading the power ENF data\n",
    "\n",
    "#initialize the class object for the ENF.\n",
    "\n",
    "audio_signal_object = pyenf.pyENF(signal0=audio_signal0[0:cmpr_len], fs=fs, nominal=300, harmonic_multiples=5, duration=.1,\n",
    "                                strip_index=0, frame_size_secs=frame_size, nfft=nfft, overlap_amount_secs=overlap)\n",
    "audio_spectro_strip, audio_frequency_support = audio_signal_object.compute_spectrogam_strips()\n",
    "audio_weights = audio_signal_object.compute_combining_weights_from_harmonics()\n",
    "audio_OurStripCell, audio_initial_frequency = audio_signal_object.compute_combined_spectrum(audio_spectro_strip,\n",
    "                                                                                            audio_weights,\n",
    "                                                                                            audio_frequency_support)\n",
    "audio_ENF = audio_signal_object.compute_ENF_from_combined_strip(audio_OurStripCell, audio_initial_frequency)"
   ]
  },
  {
   "cell_type": "code",
   "execution_count": 50,
   "id": "ad404238-272b-4356-b78b-9b8605b3a3e3",
   "metadata": {},
   "outputs": [
    {
     "name": "stdout",
     "output_type": "stream",
     "text": [
      "Length of power signal\n",
      "600\n",
      "Length of audio signal\n",
      "600\n"
     ]
    }
   ],
   "source": [
    "print(\"Length of power signal\")\n",
    "print(len(power_ENF))\n",
    "print(\"Length of audio signal\")\n",
    "print(len(audio_ENF))"
   ]
  },
  {
   "cell_type": "code",
   "execution_count": 51,
   "id": "9d09d2bd-e560-4196-a383-156e989d8d97",
   "metadata": {},
   "outputs": [
    {
     "data": {
      "image/png": "[encoded data removed]",
      "text/plain": [
       "<Figure size 432x288 with 1 Axes>"
      ]
     },
     "metadata": {
      "needs_background": "light"
     },
     "output_type": "display_data"
    }
   ],
   "source": [
    "rho,total_windows = correlation_vector(power_ENF, audio_ENF, 20, 5)\n",
    "plt.figure()\n",
    "plt.plot(rho[0],'g')\n",
    "plt.ylabel('Correlation Coefficient', fontsize=14)\n",
    "plt.xlabel('Windows', fontsize=14)\n",
    "#plt.savefig('../output/parallel-new-amp-vol10.png')\n",
    "plt.show()"
   ]
  },
  {
   "cell_type": "code",
   "execution_count": null,
   "id": "93e9737c-582a-4f79-9300-93b81a6abf9d",
   "metadata": {},
   "outputs": [],
   "source": []
  }
 ],
 "metadata": {
  "kernelspec": {
   "display_name": "Python 3 (ipykernel)",
   "language": "python",
   "name": "python3"
  },
  "language_info": {
   "codemirror_mode": {
    "name": "ipython",
    "version": 3
   },
   "file_extension": ".py",
   "mimetype": "text/x-python",
   "name": "python",
   "nbconvert_exporter": "python",
   "pygments_lexer": "ipython3",
   "version": "3.6.13"
  }
 },
 "nbformat": 4,
 "nbformat_minor": 5
}
