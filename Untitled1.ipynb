{
 "cells": [
  {
   "cell_type": "code",
   "execution_count": 14,
   "id": "4bb390df-5911-4ff8-bc9f-61fe519f2aee",
   "metadata": {},
   "outputs": [],
   "source": [
    "import pdb\n",
    "from os import listdir\n",
    "from os.path import isfile, join, splitext\n",
    "import numpy as np\n",
    "import cv2\n",
    "import pickle\n",
    "import pyenf\n",
    "import scipy.io.wavfile\n",
    "from scipy import signal\n",
    "import math\n",
    "from scipy.fftpack import fftshift\n",
    "import matplotlib.pyplot as plt\n",
    "import librosa\n",
    "from skimage.util import img_as_float\n",
    "from skimage.segmentation import slic\n",
    "from scipy.stats.stats import pearsonr\n",
    "import re"
   ]
  },
  {
   "cell_type": "code",
   "execution_count": 15,
   "id": "708b525e-c867-4dae-9075-35f3902a7f05",
   "metadata": {},
   "outputs": [],
   "source": [
    "fs = 1000  # downsampling frequency\n",
    "nfft = 8192\n",
    "frame_size = 2  # change it to 6 for videos with large length recording\n",
    "overlap = 0\n",
    "window_size = 10\n",
    "shift_size = 2\n",
    "input_dir = \"/home/pza/fakepwr\"\n",
    "output_dir = \"/home/pza/pwroutput/\"\n",
    "input_files_list = []\n",
    "pattern = r\"_\\d+min\"\n",
    "\n",
    "for file in listdir(input_dir):\n",
    "    if file.endswith(\".wav\"):\n",
    "        input_files_list.append(file)"
   ]
  },
  {
   "cell_type": "code",
   "execution_count": 13,
   "id": "89ef5297-377a-4e84-8d49-5a777bdcd496",
   "metadata": {},
   "outputs": [
    {
     "name": "stdout",
     "output_type": "stream",
     "text": [
      "this_is_just_check\n"
     ]
    }
   ],
   "source": [
    "# Using regex to search for pattern in string\n",
    "a = \"this_is_just_check_12min_1min_342min_6432444min.wav\"\n",
    "matches = re.findall(pattern, a)\n",
    "seconds_cut = [int(''.join(filter(str.isdigit, i)))*fs*60 for i in matches]\n",
    "output_name = splitext(a.lower())[0]\n",
    "output_name = re.sub(pattern, '', output_name)\n",
    "print(output_name)"
   ]
  },
  {
   "cell_type": "code",
   "execution_count": 16,
   "id": "493fc55e-966b-4874-8c41-b56ebc8031b6",
   "metadata": {},
   "outputs": [
    {
     "name": "stdout",
     "output_type": "stream",
     "text": [
      "386\n"
     ]
    }
   ],
   "source": [
    "power_signal_recording, fs = librosa.load(join(input_dir, input_files_list[0]), sr=fs)  # loading the power ENF data\n",
    "file_length = power_signal_recording.size\n",
    "total_windows = math.ceil(((file_length/fs)-window_size+1)/shift_size)"
   ]
  },
  {
   "cell_type": "code",
   "execution_count": 28,
   "id": "de8118ae-e48b-4d4a-90d6-58b146213f66",
   "metadata": {},
   "outputs": [
    {
     "name": "stdout",
     "output_type": "stream",
     "text": [
      "780200\n",
      "780000\n"
     ]
    }
   ],
   "source": [
    "if input_files_list[0][0].isupper:\n",
    "    matches = re.findall(pattern, input_files_list[0])\n",
    "    seconds_cut = [int(''.join(filter(str.isdigit, i)))*fs*60 for i in matches]\n",
    "print(file_length)   \n",
    "range_checker = range(0,total_windows)\n",
    "window_start = range_checker[total_windows-1]*shift_size*fs\n",
    "window_end = window_start+(window_size*fs)\n",
    "print(window_end)"
   ]
  },
  {
   "cell_type": "code",
   "execution_count": 29,
   "id": "ad3c810b-860c-47d1-bc28-a4fa197babba",
   "metadata": {},
   "outputs": [
    {
     "name": "stdout",
     "output_type": "stream",
     "text": [
      "240000  detected at window  115  between  230000  and  240001\n",
      "240000  detected at window  116  between  232000  and  242001\n",
      "240000  detected at window  117  between  234000  and  244001\n",
      "240000  detected at window  118  between  236000  and  246001\n",
      "240000  detected at window  119  between  238000  and  248001\n",
      "240000  detected at window  120  between  240000  and  250001\n"
     ]
    }
   ],
   "source": [
    "\n"
   ]
  },
  {
   "cell_type": "code",
   "execution_count": 25,
   "id": "d55df3a2-bc56-46aa-bd9f-06a7fe4d3e36",
   "metadata": {},
   "outputs": [
    {
     "name": "stdout",
     "output_type": "stream",
     "text": [
      "['Power_plain_wall2_4min.wav']\n"
     ]
    }
   ],
   "source": [
    "print(input_files_list)"
   ]
  },
  {
   "cell_type": "code",
   "execution_count": 31,
   "id": "d4c8863c-62ea-4bbf-a8a8-49a01d7e542e",
   "metadata": {},
   "outputs": [],
   "source": [
    "output_dir_2 = \"/home/pza/pwroutput2/\"\n",
    "for file in input_files_list:\n",
    "    power_signal_recording, fs = librosa.load(join(input_dir, file), sr=fs)  # loading the power ENF data\n",
    "    file_length = power_signal_recording.size\n",
    "    total_windows = math.ceil(((file_length/fs)-window_size+1)/shift_size)\n",
    "    \n",
    "    \n",
    "    for i in range(110,125):\n",
    "        spectrum_check = \"_0_\"\n",
    "        window_start = i*shift_size*fs\n",
    "        window_end = window_start+1+(window_size*fs)\n",
    "        sampled_data = power_signal_recording[window_start:window_end]\n",
    "        f, t, P = signal.spectrogram(sampled_data, nfft=nfft, fs=fs)\n",
    "        plt.figure(figsize=(8,8))\n",
    "        plt.pcolormesh(t, f, P, shading='gouraud', cmap = 'RdGy_r')\n",
    "        plt.ylim(20,100)\n",
    "        plt.tick_params(left = True, right = False , labelleft = False ,\n",
    "                    labelbottom = True, bottom = False)\n",
    "        if file[0].isupper():\n",
    "            matches = re.findall(pattern, input_files_list[0])\n",
    "            seconds_cut = [int(''.join(filter(str.isdigit, i)))*fs*60 for i in matches]\n",
    "            for cut in seconds_cut:\n",
    "                if cut >= window_start and cut <= window_end:\n",
    "                    spectrum_check = \"_1_\"\n",
    "            matches = None\n",
    "            seconds_cut = None\n",
    "        output_name = splitext(file.lower())[0]\n",
    "        output_name = re.sub(pattern, '', output_name)\n",
    "        file_name = output_dir_2 + splitext(file.lower())[0] + spectrum_check  + \"recording_\" + str(i) + \".png\"\n",
    "        plt.savefig(file_name)\n",
    "        plt.cla()\n",
    "        plt.clf\n",
    "        plt.close()\n"
   ]
  },
  {
   "cell_type": "code",
   "execution_count": null,
   "id": "ae45fe51-da20-45f3-92f0-540389de7843",
   "metadata": {},
   "outputs": [],
   "source": []
  }
 ],
 "metadata": {
  "kernelspec": {
   "display_name": "Python 3",
   "language": "python",
   "name": "python3"
  },
  "language_info": {
   "codemirror_mode": {
    "name": "ipython",
    "version": 3
   },
   "file_extension": ".py",
   "mimetype": "text/x-python",
   "name": "python",
   "nbconvert_exporter": "python",
   "pygments_lexer": "ipython3",
   "version": "3.6.13"
  }
 },
 "nbformat": 4,
 "nbformat_minor": 5
}
