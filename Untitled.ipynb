{
 "cells": [
  {
   "cell_type": "code",
   "execution_count": 1,
   "id": "a2d4d3a8-3727-487c-8f65-b77d317a69fc",
   "metadata": {
    "tags": []
   },
   "outputs": [],
   "source": [
    "import pdb\n",
    "from os import listdir\n",
    "from os.path import isfile, join, splitext\n",
    "import numpy as np\n",
    "import cv2\n",
    "import pickle\n",
    "import pyenf\n",
    "import scipy.io.wavfile\n",
    "from scipy import signal\n",
    "import math\n",
    "from scipy.fftpack import fftshift\n",
    "import matplotlib.pyplot as plt\n",
    "import librosa\n",
    "from skimage.util import img_as_float\n",
    "from skimage.segmentation import slic\n",
    "from scipy.stats.stats import pearsonr\n",
    "import re\n"
   ]
  },
  {
   "cell_type": "code",
   "execution_count": 20,
   "id": "ad52df7d-80a4-4c29-b2a2-80fec1068bb8",
   "metadata": {},
   "outputs": [
    {
     "name": "stdout",
     "output_type": "stream",
     "text": [
      "400000\n"
     ]
    }
   ],
   "source": [
    "fs = 1000  # downsampling frequency\n",
    "nfft = 8192\n",
    "frame_size = 2  # change it to 6 for videos with large length recording\n",
    "overlap = 0\n",
    "window_size = 10\n",
    "shift_size = 2\n",
    "output_dir = \"/home/pza/fakepwr/\"\n",
    "power_signal_recording, fs = librosa.load(\"/home/pza/audioinput2/Audio_parallel_2min_4min_6min_8min_10min_12min_14min_16min_18min_20min_22min_24min_26min_28min_30min_32min_34min_36min_38min_40min_42min_44min_46min_48min.wav\", \n",
    "                                            offset=0.0, duration=400.0, sr=fs)  # loading the power ENF data file_length = len(power_signal_recording)\n",
    "file_length = power_signal_recording.size\n",
    "print(file_length)"
   ]
  },
  {
   "cell_type": "code",
   "execution_count": 21,
   "id": "226f86c1-9e08-4b9c-a304-2b76965380f8",
   "metadata": {},
   "outputs": [
    {
     "name": "stdout",
     "output_type": "stream",
     "text": [
      "196\n"
     ]
    }
   ],
   "source": [
    "total_windows = math.ceil(( (file_length/fs) - window_size + 1) / shift_size)\n",
    "print(total_windows)"
   ]
  },
  {
   "cell_type": "code",
   "execution_count": 29,
   "id": "98051109-3792-4987-8f5c-147e6cf7a443",
   "metadata": {},
   "outputs": [],
   "source": [
    "colormaps_samples = ['PiYG', 'PRGn', 'BrBG', 'PuOr', 'RdBu', 'RdYlBu', 'RdYlGn', 'Spectral', 'coolwarm', 'bwr', 'seismic']"
   ]
  },
  {
   "cell_type": "code",
   "execution_count": 32,
   "id": "ae2c6907-4fd7-4879-aeaa-28de8ddcf3c6",
   "metadata": {},
   "outputs": [],
   "source": [
    "for j in colormaps_samples: \n",
    "    for i in [0,35,42,177]:\n",
    "        spectrum_check = \"_0_\"\n",
    "        window_start = i*shift_size*fs\n",
    "        window_end = window_start+(window_size*fs)\n",
    "        sampled_data = power_signal_recording[window_start:window_end]\n",
    "        f, t, P = signal.spectrogram(sampled_data, nfft=nfft, fs=fs)\n",
    "        plt.figure(figsize=(8,8),facecolor='white')\n",
    "        #plt.pcolormesh(t, f, P, shading='gouraud', cmap = 'RdGy_r')\n",
    "        plt.pcolormesh(t, f, P, shading='gouraud', cmap = j)\n",
    "        plt.ylim(80,160)\n",
    "        #plt.ylim(20,100)\n",
    "        plt.tick_params(left = True, right = True, labelleft = True ,\n",
    "                            labelbottom = True, bottom = True)\n",
    "        plt.xlabel('Time [sec]')\n",
    "        plt.ylabel('Frequency [Hz]')\n",
    "        file_name = \"/home/pza/presentation_samples/\"+ j + \"_\" +str(i) + \".png\"\n",
    "        plt.savefig(file_name)\n",
    "        plt.cla()\n",
    "        plt.clf\n",
    "        plt.close()\n"
   ]
  },
  {
   "cell_type": "code",
   "execution_count": 8,
   "id": "d88441bd-c392-4f5b-a39e-bf6e8efb2f98",
   "metadata": {
    "tags": []
   },
   "outputs": [
    {
     "name": "stdout",
     "output_type": "stream",
     "text": [
      "596\n"
     ]
    }
   ],
   "source": [
    "\n",
    "file = \"Power_plain_wall2_3min_5min_7min_9min_11min.wav\"\n",
    "print(total_windows);\n",
    "for i in range(0,total_windows):\n",
    "    sampled_data = power_signal_recording[i*shift_size*fs:i*shift_size*fs+(window_size*fs)]\n",
    "    f, t, P = signal.spectrogram(sampled_data, nfft=nfft, fs=fs)\n",
    "    plt.figure(figsize=(8,8))\n",
    "    plt.pcolormesh(t, f, P, shading='gouraud', cmap = 'RdGy_r')\n",
    "    # plt.ylabel('Frequency [Hz]')\n",
    "    plt.ylim(20,100)\n",
    "    #plt.tick_params(left = False, right = False , labelleft = False ,\n",
    "                labelbottom = False, bottom = False)\n",
    "    plt.xlabel('Time [sec]')\n",
    "    if file[0].isupper():\n",
    "        a = \"Power_plain_wall_one_5to10.wav\"\n",
    "        pattern = r\"\\d+to\\d+\"\n",
    "        matches = re.findall(pattern, a)\n",
    "        limits = []\n",
    "        for match in matches:\n",
    "            start, ending = match.split(\"to\")\n",
    "            limits.append((int(start), int(ending)))\n",
    "        file_name = output_dir + splitext(file)[0] + \"_1_\"  + \"recording_\" + str(i) + \".png\"\n",
    "    else: \n",
    "        file_name = output_dir + splitext(file)[0] + \"_0_\"  + \"recording_\" + str(i) + \".png\"\n",
    "\n",
    "  #  plt.savefig(file_name)\n",
    "  #  plt.cla()\n",
    "  #  plt.clf\n",
    "  #  plt.close()\n"
   ]
  },
  {
   "cell_type": "code",
   "execution_count": null,
   "id": "f247c838-3a88-483a-a1f2-9c4af80eefe5",
   "metadata": {},
   "outputs": [],
   "source": []
  },
  {
   "cell_type": "code",
   "execution_count": 8,
   "id": "b68eca7a-9f06-4b09-9c40-5e26ae62d07e",
   "metadata": {
    "tags": []
   },
   "outputs": [
    {
     "name": "stdout",
     "output_type": "stream",
     "text": [
      "600110\n"
     ]
    },
    {
     "data": {
      "image/png": "[encoded data removed]",
      "text/plain": [
       "<Figure size 576x576 with 1 Axes>"
      ]
     },
     "metadata": {},
     "output_type": "display_data"
    }
   ],
   "source": []
  },
  {
   "cell_type": "code",
   "execution_count": 53,
   "id": "0e51468e-4e6c-4dfc-bb9b-5ab018cad2f0",
   "metadata": {
    "tags": []
   },
   "outputs": [
    {
     "name": "stdout",
     "output_type": "stream",
     "text": [
      "0\n",
      "2000\n",
      "4000\n",
      "6000\n",
      "8000\n",
      "10000\n"
     ]
    }
   ],
   "source": [
    "fs = 1000  # downsampling frequency\n",
    "nfft = 8192\n",
    "frame_size = 2  # change it to 6 for videos with large length recording\n",
    "overlap = 0\n",
    "window_size = 10\n",
    "shift_size = 2\n",
    "input_dir = \"/home/pza/pwrinput/power_plain_wall.wav\"\n",
    "output_dir = \"/home/pza/pwroutput/\"\n",
    "input_files_list = []\n",
    "\n",
    "for file in listdir(input_dir):\n",
    "    if file.endswith(\".wav\"):\n",
    "        input_files_list.append(file)\n",
    "        #print(join(\"input_dir\", file))\n",
    "\n",
    "#ch = [splitext(i)[0] for i in  input_files_list]\n",
    "\n",
    "for file in input_files_list:\n",
    "    power_signal_recording, fs = librosa.load(join(input_dir, file), sr=fs)  # loading the power ENF data\n",
    "    file_length = power_signal_recording.size\n",
    "    total_windows = math.ceil(( length_of_signal - window_size + 1) / shift_size)\n",
    "    print(total_windows);\n",
    "    for i in range(0,(10-window_size+1)*fs,shift_size*fs):\n",
    "        sampled_data = power_signal_recording[i:i+(window_size*fs)]\n",
    "        f, t, P = signal.spectrogram(sampled_data, nfft=nfft, fs=fs)\n",
    "        plt.figure(figsize=(8,8))\n",
    "        plt.pcolormesh(t, f, P, shading='gouraud', cmap = 'RdGy_r')\n",
    "        plt.ylabel('Frequency [Hz]')\n",
    "       # plt.ylabel('Frequency [Hz]')\n",
    "        plt.ylim(20,100)\n",
    "        plt.tick_params(left = False, right = False , labelleft = False ,\n",
    "                    labelbottom = False, bottom = False)\n",
    "       # plt.xlabel('Time [sec]')\n",
    "        if file[0].isupper():\n",
    "            file_name = output_dir + splitext(file)[0] + \"_1_\"  + \"recording_\" + str(i//(shift_size*fs)) + \".png\"\n",
    "        else: \n",
    "            file_name = output_dir + splitext(file)[0] + \"_0_\"  + \"recording_\" + str(i//(shift_size*fs)) + \".png\"\n",
    "\n",
    "        plt.savefig(file_name)\n",
    "        plt.close\n",
    "    \n",
    "    \n",
    "\n"
   ]
  },
  {
   "cell_type": "code",
   "execution_count": 12,
   "id": "540ca5c2-e928-467c-ac01-e3ffde13a5ca",
   "metadata": {
    "tags": []
   },
   "outputs": [],
   "source": []
  },
  {
   "cell_type": "code",
   "execution_count": 69,
   "id": "7933c258-584b-468f-9c1a-5ae665873d6f",
   "metadata": {
    "tags": []
   },
   "outputs": [],
   "source": [
    "#power_signal_object = pyenf.pyENF(signal0=power_signal0, fs=fs, nominal=60, harmonic_multiples=1, duration=0.1,\n",
    "#                              strip_index=0, frame_size_secs=frame_size, nfft=nfft, overlap_amount_secs=overlap)\n",
    "#power_spectro_strip, power_frequency_support = power_signal_object.compute_spectrogam_strips()"
   ]
  },
  {
   "cell_type": "code",
   "execution_count": 3,
   "id": "6004b168-e28d-4d21-996e-bc6da0a114f6",
   "metadata": {
    "tags": []
   },
   "outputs": [
    {
     "name": "stdout",
     "output_type": "stream",
     "text": [
      "5\n"
     ]
    }
   ],
   "source": [
    "a = \"Power_plain_wall_one_5to10.wav\"\n",
    "pattern = r\"\\d+to\\d+\"\n",
    "\n",
    "# Using regex to search for pattern in string\n",
    "matches = re.findall(pattern, a)\n",
    "\n",
    "# Extracting numbers from matches and adding them to a list\n",
    "limits = []\n",
    "for match in matches:\n",
    "    start, ending = match.split(\"to\")\n",
    "    limits.append((int(start), int(ending)))\n",
    "\n",
    "# Printing the list of numbers\n",
    "for limit in limits:\n",
    "    print(limit[0])\n"
   ]
  },
  {
   "cell_type": "code",
   "execution_count": 34,
   "id": "18f7d400-17cc-4b5d-a3f5-042edbbf79a4",
   "metadata": {},
   "outputs": [],
   "source": [
    "input_dir = \"/home/pza/enf_demo/input/pwr_fls/\"\n",
    "input_files_list = []\n",
    "\n",
    "for file in listdir(input_dir):\n",
    "    if file.endswith(\".wav\"):\n",
    "        input_files_list.append(file)\n",
    "        #print(join(\"input_dir\", file))\n"
   ]
  },
  {
   "cell_type": "code",
   "execution_count": 45,
   "id": "db211603-2132-41ca-a4a5-ca0faacef864",
   "metadata": {
    "tags": []
   },
   "outputs": [
    {
     "name": "stdout",
     "output_type": "stream",
     "text": [
      "['power_plain_wall2', 'power_plain_wall3', 'power_rec_5min_nomove', 'power_plain_wall']\n",
      "False\n"
     ]
    }
   ],
   "source": [
    "ch = [splitext(i)[0] for i in  input_files_list]\n",
    "print(ch)\n",
    "print(ch[0][0].isupper())"
   ]
  },
  {
   "cell_type": "code",
   "execution_count": null,
   "id": "f90137cc-d19a-4011-b0f9-f31a26c691ea",
   "metadata": {},
   "outputs": [],
   "source": []
  }
 ],
 "metadata": {
  "kernelspec": {
   "display_name": "Python 3",
   "language": "python",
   "name": "python3"
  },
  "language_info": {
   "codemirror_mode": {
    "name": "ipython",
    "version": 3
   },
   "file_extension": ".py",
   "mimetype": "text/x-python",
   "name": "python",
   "nbconvert_exporter": "python",
   "pygments_lexer": "ipython3",
   "version": "3.6.13"
  }
 },
 "nbformat": 4,
 "nbformat_minor": 5
}
