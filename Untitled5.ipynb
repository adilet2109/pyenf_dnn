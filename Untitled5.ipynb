{
 "cells": [
  {
   "cell_type": "code",
   "execution_count": 1,
   "id": "078e26ca-c19e-435f-95b2-ac16edd384e7",
   "metadata": {},
   "outputs": [],
   "source": [
    "import pdb\n",
    "from os import listdir\n",
    "from os.path import isfile, join, splitext\n",
    "import numpy as np\n",
    "import cv2\n",
    "import pickle\n",
    "import pyenf\n",
    "import scipy.io.wavfile\n",
    "from scipy import signal\n",
    "import math\n",
    "from scipy.fftpack import fftshift\n",
    "import matplotlib.pyplot as plt\n",
    "import librosa\n",
    "from skimage.util import img_as_float\n",
    "from skimage.segmentation import slic\n",
    "from scipy.stats.stats import pearsonr\n",
    "import re"
   ]
  },
  {
   "cell_type": "code",
   "execution_count": 2,
   "id": "efce1d29-0288-4837-a571-bfc39f60315c",
   "metadata": {},
   "outputs": [
    {
     "name": "stdout",
     "output_type": "stream",
     "text": [
      "['Power_plain_wall_2min_4min_8min_10min_12min.wav', 'Power_plain_wall3_1min_2min_3min_4min_5min_6min_7min_8min_9min_10min.wav', 'Power_plain_wall2_3min_5min_7min_9min_11min.wav', 'power_rec_nomove.wav']\n"
     ]
    }
   ],
   "source": [
    "fs = 1000  # downsampling frequency\n",
    "nfft = 8192\n",
    "frame_size = 2  # change it to 6 for videos with large length recording\n",
    "overlap = 0\n",
    "window_size = 10\n",
    "shift_size = 2\n",
    "input_dir = \"/home/pza/pwrinput\"\n",
    "input_files_list = []\n",
    "pattern = r\"_\\d+min\"\n",
    "for file in listdir(input_dir):\n",
    "    if file.endswith(\".wav\"):\n",
    "        input_files_list.append(file)\n",
    "        \n",
    "print(input_files_list)"
   ]
  },
  {
   "cell_type": "code",
   "execution_count": 4,
   "id": "8ccfdcfe-bef9-46a1-8734-db148d8ef6af",
   "metadata": {},
   "outputs": [],
   "source": [
    "power_signal_recording, fs = librosa.load(join(input_dir, input_files_list[0]), sr=fs)  # loading the power ENF data\n",
    "file_length = power_signal_recording.size\n",
    "total_windows = math.ceil(((file_length/fs)-window_size+1)/shift_size)\n",
    "\n",
    "   # if file[0].isupper():\n",
    "   #     matches = re.findall(pattern,file)\n",
    "   #     seconds_cut = [int(''.join(filter(str.isdigit, i)))*fs*60 for i in matches]\n",
    "   #     for cut in seconds_cut:\n",
    "   #         if cut >= window_start and cut <= window_end:\n",
    "   #             spectrum_check = \"_1_\"\n",
    "   #     matches = None\n",
    "   #     seconds_cut = None\n",
    "   # output_name = splitext(file.lower())[0]\n",
    "    #output_name = re.sub(pattern, '', output_name)\n",
    "    #file_name = output_dir + \"/\" + output_name + spectrum_check  + \"recording_\" + str(i) + \".png\"\n",
    "       # plt.ylabel('Frequency [Hz]')\n",
    "    #plt.savefig(file_name)\n",
    "    #plt.cla()\n",
    "    #plt.clf\n",
    "    #plt.close()\n"
   ]
  },
  {
   "cell_type": "code",
   "execution_count": 7,
   "id": "de84b79f-cb86-41d8-8259-9247dc1c8bc7",
   "metadata": {},
   "outputs": [
    {
     "name": "stdout",
     "output_type": "stream",
     "text": [
      "[120000, 240000, 480000, 600000, 720000]\n",
      "Power_plain_wall_2min_4min_8min_10min_12min.wav\n",
      "120000  detected at window  55  between  110000  and  120001\n",
      "120000  detected at window  56  between  112000  and  122001\n",
      "120000  detected at window  57  between  114000  and  124001\n",
      "120000  detected at window  58  between  116000  and  126001\n",
      "120000  detected at window  59  between  118000  and  128001\n",
      "120000  detected at window  60  between  120000  and  130001\n",
      "240000  detected at window  115  between  230000  and  240001\n",
      "240000  detected at window  116  between  232000  and  242001\n",
      "240000  detected at window  117  between  234000  and  244001\n",
      "240000  detected at window  118  between  236000  and  246001\n",
      "240000  detected at window  119  between  238000  and  248001\n",
      "240000  detected at window  120  between  240000  and  250001\n",
      "480000  detected at window  235  between  470000  and  480001\n",
      "480000  detected at window  236  between  472000  and  482001\n",
      "480000  detected at window  237  between  474000  and  484001\n",
      "480000  detected at window  238  between  476000  and  486001\n",
      "480000  detected at window  239  between  478000  and  488001\n",
      "480000  detected at window  240  between  480000  and  490001\n",
      "600000  detected at window  295  between  590000  and  600001\n",
      "600000  detected at window  296  between  592000  and  602001\n",
      "600000  detected at window  297  between  594000  and  604001\n",
      "600000  detected at window  298  between  596000  and  606001\n",
      "600000  detected at window  299  between  598000  and  608001\n",
      "600000  detected at window  300  between  600000  and  610001\n",
      "720000  detected at window  355  between  710000  and  720001\n",
      "720000  detected at window  356  between  712000  and  722001\n",
      "720000  detected at window  357  between  714000  and  724001\n",
      "720000  detected at window  358  between  716000  and  726001\n",
      "720000  detected at window  359  between  718000  and  728001\n",
      "720000  detected at window  360  between  720000  and  730001\n"
     ]
    }
   ],
   "source": [
    "matches = re.findall(pattern,input_files_list[0])\n",
    "seconds_cut = [int(''.join(filter(str.isdigit, i)))*fs*60 for i in matches]\n",
    "print(seconds_cut)\n",
    "print(input_files_list[0])\n",
    "for i in range(0,total_windows):\n",
    "    window_start = i*shift_size*fs\n",
    "    window_end = window_start+1+(window_size*fs)\n",
    "    for cut in seconds_cut:\n",
    "        if cut >= window_start and cut <= window_end:\n",
    "            print(cut, \" detected at window \", i, \" between \", window_start, \" and \", window_end)"
   ]
  },
  {
   "cell_type": "code",
   "execution_count": 19,
   "id": "2868d3bb-c821-42e5-9046-0596a8f3db7c",
   "metadata": {},
   "outputs": [
    {
     "data": {
      "image/png": "[encoded data removed]",
      "text/plain": [
       "<Figure size 576x576 with 1 Axes>"
      ]
     },
     "metadata": {},
     "output_type": "display_data"
    }
   ],
   "source": [
    "for i in [0]:#total_windows):\n",
    "    spectrum_check = \"_0_\"\n",
    "    window_start = i*shift_size*fs\n",
    "    window_end = window_start+(window_size*fs)\n",
    "    sampled_data = power_signal_recording[window_start:window_end]\n",
    "    f, t, P = signal.spectrogram(sampled_data, nfft=nfft, fs=fs)\n",
    "    plt.figure(figsize=(8,8),facecolor='white')\n",
    "    plt.pcolormesh(t, f, P, shading='gouraud', cmap = 'RdGy_r')\n",
    "    #plt.ylim(20,100)\n",
    "    plt.tick_params(left = True, right = True, labelleft = True ,\n",
    "                        labelbottom = True, bottom = True)\n",
    "    plt.xlabel('Time [sec]')\n",
    "    plt.ylabel('Frequency [Hz]')\n",
    "    file_name = \"/home/pza/temp/recording_\"+ str(i) + \".png\"\n",
    "    #plt.savefig(file_name)"
   ]
  },
  {
   "cell_type": "code",
   "execution_count": null,
   "id": "a342647c-5be4-44aa-8fc1-f1d8932f6f29",
   "metadata": {},
   "outputs": [],
   "source": []
  }
 ],
 "metadata": {
  "kernelspec": {
   "display_name": "Python 3",
   "language": "python",
   "name": "python3"
  },
  "language_info": {
   "codemirror_mode": {
    "name": "ipython",
    "version": 3
   },
   "file_extension": ".py",
   "mimetype": "text/x-python",
   "name": "python",
   "nbconvert_exporter": "python",
   "pygments_lexer": "ipython3",
   "version": "3.6.13"
  }
 },
 "nbformat": 4,
 "nbformat_minor": 5
}
