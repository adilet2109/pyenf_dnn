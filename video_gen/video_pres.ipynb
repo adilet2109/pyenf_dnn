{
 "cells": [
  {
   "cell_type": "code",
   "execution_count": 14,
   "id": "499f8dc3-10e5-4365-8928-e4c6a3608f2c",
   "metadata": {},
   "outputs": [],
   "source": [
    "import cv2\n",
    "import os"
   ]
  },
  {
   "cell_type": "code",
   "execution_count": 19,
   "id": "10013bf0-ffdf-4974-9b61-ca888e34b5b9",
   "metadata": {},
   "outputs": [],
   "source": [
    "def add_red_oval_ring(image, center_x, center_y, major_axis, minor_axis):\n",
    "    oval_color = (0, 0, 255)  # Red color in BGR format\n",
    "    thickness = 2  # Oval ring thickness\n",
    "\n",
    "    return cv2.ellipse(image.copy(), (center_x, center_y), (major_axis, minor_axis), 0, 0, 360, oval_color, thickness)\n",
    "\n",
    "def add_filename_text(image, filename):\n",
    "    text_color = (0, 0, 255)  # White color in BGR format\n",
    "    font = cv2.FONT_HERSHEY_SIMPLEX\n",
    "    font_scale = 1.2\n",
    "    font_thickness = 1\n",
    "    text_position = (10, image.shape[0] - 10)  # Bottom-left corner\n",
    "\n",
    "    return cv2.putText(image.copy(), filename, text_position, font, font_scale, text_color, font_thickness, cv2.LINE_AA)\n",
    "\n",
    "def display_and_save_images(images_folder, output_video_path, fps=24):\n",
    "    image_files = [f for f in os.listdir(images_folder) if f.lower().endswith(\".png\")]\n",
    "    image_files.sort()\n",
    "\n",
    "    if not image_files:\n",
    "        print(\"No PNG images found in the specified folder.\")\n",
    "        return\n",
    "\n",
    "    first_image_path = os.path.join(images_folder, image_files[0])\n",
    "    first_image = cv2.imread(first_image_path)\n",
    "    height, width, _ = first_image.shape\n",
    "\n",
    "    fourcc = cv2.VideoWriter_fourcc(*\"mp4v\")\n",
    "    video_writer = cv2.VideoWriter(output_video_path, fourcc, fps, (width, height))\n",
    "\n",
    "    center_x = width - 75  # Starting position of the oval ring\n",
    "    major_axis = 30  # Major axis of the oval ring\n",
    "    minor_axis = 350  # Minor axis of the oval ring\n",
    "\n",
    "    for image_file in image_files:\n",
    "        image_path = os.path.join(images_folder, image_file)\n",
    "        image = cv2.imread(image_path)\n",
    "\n",
    "        # Add red oval ring\n",
    "        image_with_oval = image #add_red_oval_ring(image, center_x, height // 2, major_axis, minor_axis)\n",
    "\n",
    "        # Add filename text\n",
    "        image_with_text = add_filename_text(image_with_oval, image_file)\n",
    "\n",
    "        # Display the image\n",
    "        cv2.imshow(\"Display\", image_with_text)\n",
    "        cv2.waitKey(1)\n",
    "\n",
    "        # Save the image to the video file\n",
    "        video_writer.write(image_with_text)\n",
    "\n",
    "        # Shift the center of the oval ring to the left\n",
    "        center_x -= 7  # Adjust as needed\n",
    "\n",
    "    video_writer.release()\n",
    "    cv2.destroyAllWindows()"
   ]
  },
  {
   "cell_type": "code",
   "execution_count": 22,
   "id": "c91ecb1c-9233-455e-bde7-e552ecc16fec",
   "metadata": {},
   "outputs": [],
   "source": [
    "input_folder = \"images/defense/fading\"\n",
    "output_video = \"videos/defense_fading.mp4\"\n",
    "\n",
    "# Set the frames per second (fps) for the output video\n",
    "frames_per_second = 1\n",
    "\n",
    "display_and_save_images(input_folder, output_video, frames_per_second)\n"
   ]
  },
  {
   "cell_type": "code",
   "execution_count": 7,
   "id": "be219bfc-6d9a-40cb-989d-4669b6f09ddf",
   "metadata": {},
   "outputs": [],
   "source": [
    "input_folder = \"images/119img\"\n",
    "output_video = \"videos/119img.mp4\"\n",
    "\n",
    "# Set the frames per second (fps) for the output video\n",
    "frames_per_second = 24\n",
    "\n",
    "display_and_save_images(input_folder, output_video, frames_per_second)\n"
   ]
  },
  {
   "cell_type": "code",
   "execution_count": 8,
   "id": "721fd0df-392c-451a-aca5-3699a752b96f",
   "metadata": {},
   "outputs": [],
   "source": [
    "input_folder = \"images/22img\"\n",
    "output_video = \"videos/22img.mp4\"\n",
    "\n",
    "# Set the frames per second (fps) for the output video\n",
    "frames_per_second = 24\n",
    "\n",
    "display_and_save_images(input_folder, output_video, frames_per_second)"
   ]
  },
  {
   "cell_type": "code",
   "execution_count": 9,
   "id": "81fe6cc7-5dbd-498e-9a62-554a4dc93544",
   "metadata": {},
   "outputs": [],
   "source": [
    "input_folder = \"images/287img\"\n",
    "output_video = \"videos/287img.mp4\"\n",
    "\n",
    "# Set the frames per second (fps) for the output video\n",
    "frames_per_second = 24\n",
    "\n",
    "display_and_save_images(input_folder, output_video, frames_per_second)"
   ]
  },
  {
   "cell_type": "code",
   "execution_count": 10,
   "id": "34414fa9-496b-4e39-9c46-e7ebdd16b28c",
   "metadata": {},
   "outputs": [],
   "source": [
    "input_folder = \"images/311img\"\n",
    "output_video = \"videos/311img.mp4\"\n",
    "\n",
    "# Set the frames per second (fps) for the output video\n",
    "frames_per_second = 24\n",
    "\n",
    "display_and_save_images(input_folder, output_video, frames_per_second)"
   ]
  },
  {
   "cell_type": "code",
   "execution_count": null,
   "id": "955d904c-69cc-43d2-9183-6564e77da15d",
   "metadata": {},
   "outputs": [],
   "source": []
  }
 ],
 "metadata": {
  "kernelspec": {
   "display_name": "Python 3 (ipykernel)",
   "language": "python",
   "name": "python3"
  },
  "language_info": {
   "codemirror_mode": {
    "name": "ipython",
    "version": 3
   },
   "file_extension": ".py",
   "mimetype": "text/x-python",
   "name": "python",
   "nbconvert_exporter": "python",
   "pygments_lexer": "ipython3",
   "version": "3.6.13"
  }
 },
 "nbformat": 4,
 "nbformat_minor": 5
}
